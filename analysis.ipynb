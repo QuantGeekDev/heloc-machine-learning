{
 "cells": [
  {
   "attachments": {},
   "cell_type": "markdown",
   "metadata": {},
   "source": [
    "# Retail Analysis\n",
    "\n",
    "## Summary of the business\n",
    "\n",
    "HELOC\n",
    "\n",
    "The HELOC dataset from FICO. Each entry in the dataset is a line of credit, typically offered by a bank as a percentage of home equity (the difference between the current market value of a home and its purchase price). The customers in this dataset have requested a credit line in the range of $5,000 - $150,000. The fundamental task is to use the information about the applicant in their credit report to predict whether they will repay their HELOC account within 2 years."
   ]
  },
  {
   "cell_type": "code",
   "execution_count": 1,
   "metadata": {},
   "outputs": [],
   "source": [
    "import pandas as pd"
   ]
  },
  {
   "attachments": {},
   "cell_type": "markdown",
   "metadata": {},
   "source": [
    "# Data Exploration"
   ]
  },
  {
   "attachments": {},
   "cell_type": "markdown",
   "metadata": {},
   "source": [
    "There is only one csv file called: heloc.csv"
   ]
  },
  {
   "cell_type": "code",
   "execution_count": 2,
   "metadata": {},
   "outputs": [],
   "source": [
    "heloc_df = pd.read_csv('data/heloc.csv')"
   ]
  },
  {
   "cell_type": "code",
   "execution_count": 10,
   "metadata": {},
   "outputs": [
    {
     "name": "stdout",
     "output_type": "stream",
     "text": [
      "There are 24 columns: \n",
      "\n",
      "RiskPerformance  |  ExternalRiskEstimate  |  MSinceOldestTradeOpen  |  \n",
      "MSinceMostRecentTradeOpen  |  AverageMInFile  |  NumSatisfactoryTrades  |  \n",
      "NumTrades60Ever2DerogPubRec  |  NumTrades90Ever2DerogPubRec  |  PercentTradesNeverDelq  |  \n",
      "MSinceMostRecentDelq  |  MaxDelq2PublicRecLast12M  |  MaxDelqEver  |  \n",
      "NumTotalTrades  |  NumTradesOpeninLast12M  |  PercentInstallTrades  |  \n",
      "MSinceMostRecentInqexcl7days  |  NumInqLast6M  |  NumInqLast6Mexcl7days  |  \n",
      "NetFractionRevolvingBurden  |  NetFractionInstallBurden  |  NumRevolvingTradesWBalance  |  \n",
      "NumInstallTradesWBalance  |  NumBank2NatlTradesWHighUtilization  |  PercentTradesWBalance  |  "
     ]
    }
   ],
   "source": [
    "print(f'There are {len(heloc_df.columns)} columns: ')\n",
    "print()\n",
    "for idx, x in enumerate(heloc_df.columns):\n",
    "    if idx % 3 == 0 and idx != 0:\n",
    "        print()\n",
    "    print(x, end=\"  |  \")"
   ]
  },
  {
   "cell_type": "code",
   "execution_count": 12,
   "metadata": {},
   "outputs": [
    {
     "name": "stdout",
     "output_type": "stream",
     "text": [
      "<class 'pandas.core.frame.DataFrame'>\n",
      "RangeIndex: 10459 entries, 0 to 10458\n",
      "Data columns (total 24 columns):\n",
      " #   Column                              Non-Null Count  Dtype \n",
      "---  ------                              --------------  ----- \n",
      " 0   RiskPerformance                     10459 non-null  object\n",
      " 1   ExternalRiskEstimate                10459 non-null  int64 \n",
      " 2   MSinceOldestTradeOpen               10459 non-null  int64 \n",
      " 3   MSinceMostRecentTradeOpen           10459 non-null  int64 \n",
      " 4   AverageMInFile                      10459 non-null  int64 \n",
      " 5   NumSatisfactoryTrades               10459 non-null  int64 \n",
      " 6   NumTrades60Ever2DerogPubRec         10459 non-null  int64 \n",
      " 7   NumTrades90Ever2DerogPubRec         10459 non-null  int64 \n",
      " 8   PercentTradesNeverDelq              10459 non-null  int64 \n",
      " 9   MSinceMostRecentDelq                10459 non-null  int64 \n",
      " 10  MaxDelq2PublicRecLast12M            10459 non-null  int64 \n",
      " 11  MaxDelqEver                         10459 non-null  int64 \n",
      " 12  NumTotalTrades                      10459 non-null  int64 \n",
      " 13  NumTradesOpeninLast12M              10459 non-null  int64 \n",
      " 14  PercentInstallTrades                10459 non-null  int64 \n",
      " 15  MSinceMostRecentInqexcl7days        10459 non-null  int64 \n",
      " 16  NumInqLast6M                        10459 non-null  int64 \n",
      " 17  NumInqLast6Mexcl7days               10459 non-null  int64 \n",
      " 18  NetFractionRevolvingBurden          10459 non-null  int64 \n",
      " 19  NetFractionInstallBurden            10459 non-null  int64 \n",
      " 20  NumRevolvingTradesWBalance          10459 non-null  int64 \n",
      " 21  NumInstallTradesWBalance            10459 non-null  int64 \n",
      " 22  NumBank2NatlTradesWHighUtilization  10459 non-null  int64 \n",
      " 23  PercentTradesWBalance               10459 non-null  int64 \n",
      "dtypes: int64(23), object(1)\n",
      "memory usage: 1.9+ MB\n"
     ]
    }
   ],
   "source": [
    "heloc_df.info()"
   ]
  },
  {
   "cell_type": "code",
   "execution_count": 13,
   "metadata": {},
   "outputs": [
    {
     "data": {
      "text/html": [
       "<div>\n",
       "<style scoped>\n",
       "    .dataframe tbody tr th:only-of-type {\n",
       "        vertical-align: middle;\n",
       "    }\n",
       "\n",
       "    .dataframe tbody tr th {\n",
       "        vertical-align: top;\n",
       "    }\n",
       "\n",
       "    .dataframe thead th {\n",
       "        text-align: right;\n",
       "    }\n",
       "</style>\n",
       "<table border=\"1\" class=\"dataframe\">\n",
       "  <thead>\n",
       "    <tr style=\"text-align: right;\">\n",
       "      <th></th>\n",
       "      <th>RiskPerformance</th>\n",
       "      <th>ExternalRiskEstimate</th>\n",
       "      <th>MSinceOldestTradeOpen</th>\n",
       "      <th>MSinceMostRecentTradeOpen</th>\n",
       "      <th>AverageMInFile</th>\n",
       "      <th>NumSatisfactoryTrades</th>\n",
       "      <th>NumTrades60Ever2DerogPubRec</th>\n",
       "      <th>NumTrades90Ever2DerogPubRec</th>\n",
       "      <th>PercentTradesNeverDelq</th>\n",
       "      <th>MSinceMostRecentDelq</th>\n",
       "      <th>...</th>\n",
       "      <th>PercentInstallTrades</th>\n",
       "      <th>MSinceMostRecentInqexcl7days</th>\n",
       "      <th>NumInqLast6M</th>\n",
       "      <th>NumInqLast6Mexcl7days</th>\n",
       "      <th>NetFractionRevolvingBurden</th>\n",
       "      <th>NetFractionInstallBurden</th>\n",
       "      <th>NumRevolvingTradesWBalance</th>\n",
       "      <th>NumInstallTradesWBalance</th>\n",
       "      <th>NumBank2NatlTradesWHighUtilization</th>\n",
       "      <th>PercentTradesWBalance</th>\n",
       "    </tr>\n",
       "  </thead>\n",
       "  <tbody>\n",
       "    <tr>\n",
       "      <th>9899</th>\n",
       "      <td>Good</td>\n",
       "      <td>83</td>\n",
       "      <td>140</td>\n",
       "      <td>4</td>\n",
       "      <td>75</td>\n",
       "      <td>27</td>\n",
       "      <td>0</td>\n",
       "      <td>0</td>\n",
       "      <td>100</td>\n",
       "      <td>-7</td>\n",
       "      <td>...</td>\n",
       "      <td>52</td>\n",
       "      <td>0</td>\n",
       "      <td>3</td>\n",
       "      <td>2</td>\n",
       "      <td>12</td>\n",
       "      <td>100</td>\n",
       "      <td>2</td>\n",
       "      <td>3</td>\n",
       "      <td>0</td>\n",
       "      <td>71</td>\n",
       "    </tr>\n",
       "    <tr>\n",
       "      <th>6036</th>\n",
       "      <td>Good</td>\n",
       "      <td>84</td>\n",
       "      <td>155</td>\n",
       "      <td>5</td>\n",
       "      <td>65</td>\n",
       "      <td>28</td>\n",
       "      <td>0</td>\n",
       "      <td>0</td>\n",
       "      <td>100</td>\n",
       "      <td>-7</td>\n",
       "      <td>...</td>\n",
       "      <td>25</td>\n",
       "      <td>16</td>\n",
       "      <td>0</td>\n",
       "      <td>0</td>\n",
       "      <td>4</td>\n",
       "      <td>67</td>\n",
       "      <td>3</td>\n",
       "      <td>2</td>\n",
       "      <td>0</td>\n",
       "      <td>56</td>\n",
       "    </tr>\n",
       "    <tr>\n",
       "      <th>5197</th>\n",
       "      <td>Good</td>\n",
       "      <td>82</td>\n",
       "      <td>151</td>\n",
       "      <td>4</td>\n",
       "      <td>66</td>\n",
       "      <td>10</td>\n",
       "      <td>1</td>\n",
       "      <td>0</td>\n",
       "      <td>91</td>\n",
       "      <td>51</td>\n",
       "      <td>...</td>\n",
       "      <td>23</td>\n",
       "      <td>10</td>\n",
       "      <td>0</td>\n",
       "      <td>0</td>\n",
       "      <td>0</td>\n",
       "      <td>-8</td>\n",
       "      <td>0</td>\n",
       "      <td>1</td>\n",
       "      <td>-8</td>\n",
       "      <td>33</td>\n",
       "    </tr>\n",
       "  </tbody>\n",
       "</table>\n",
       "<p>3 rows × 24 columns</p>\n",
       "</div>"
      ],
      "text/plain": [
       "     RiskPerformance  ExternalRiskEstimate  MSinceOldestTradeOpen  \\\n",
       "9899            Good                    83                    140   \n",
       "6036            Good                    84                    155   \n",
       "5197            Good                    82                    151   \n",
       "\n",
       "      MSinceMostRecentTradeOpen  AverageMInFile  NumSatisfactoryTrades  \\\n",
       "9899                          4              75                     27   \n",
       "6036                          5              65                     28   \n",
       "5197                          4              66                     10   \n",
       "\n",
       "      NumTrades60Ever2DerogPubRec  NumTrades90Ever2DerogPubRec  \\\n",
       "9899                            0                            0   \n",
       "6036                            0                            0   \n",
       "5197                            1                            0   \n",
       "\n",
       "      PercentTradesNeverDelq  MSinceMostRecentDelq  ...  PercentInstallTrades  \\\n",
       "9899                     100                    -7  ...                    52   \n",
       "6036                     100                    -7  ...                    25   \n",
       "5197                      91                    51  ...                    23   \n",
       "\n",
       "      MSinceMostRecentInqexcl7days  NumInqLast6M  NumInqLast6Mexcl7days  \\\n",
       "9899                             0             3                      2   \n",
       "6036                            16             0                      0   \n",
       "5197                            10             0                      0   \n",
       "\n",
       "      NetFractionRevolvingBurden  NetFractionInstallBurden  \\\n",
       "9899                          12                       100   \n",
       "6036                           4                        67   \n",
       "5197                           0                        -8   \n",
       "\n",
       "      NumRevolvingTradesWBalance  NumInstallTradesWBalance  \\\n",
       "9899                           2                         3   \n",
       "6036                           3                         2   \n",
       "5197                           0                         1   \n",
       "\n",
       "      NumBank2NatlTradesWHighUtilization  PercentTradesWBalance  \n",
       "9899                                   0                     71  \n",
       "6036                                   0                     56  \n",
       "5197                                  -8                     33  \n",
       "\n",
       "[3 rows x 24 columns]"
      ]
     },
     "execution_count": 13,
     "metadata": {},
     "output_type": "execute_result"
    }
   ],
   "source": [
    "heloc_df.sample(3)"
   ]
  },
  {
   "cell_type": "code",
   "execution_count": null,
   "metadata": {},
   "outputs": [],
   "source": []
  }
 ],
 "metadata": {
  "kernelspec": {
   "display_name": ".venv",
   "language": "python",
   "name": "python3"
  },
  "language_info": {
   "codemirror_mode": {
    "name": "ipython",
    "version": 3
   },
   "file_extension": ".py",
   "mimetype": "text/x-python",
   "name": "python",
   "nbconvert_exporter": "python",
   "pygments_lexer": "ipython3",
   "version": "3.10.6"
  },
  "orig_nbformat": 4
 },
 "nbformat": 4,
 "nbformat_minor": 2
}
