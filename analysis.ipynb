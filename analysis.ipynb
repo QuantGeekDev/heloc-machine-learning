{
 "cells": [
  {
   "attachments": {},
   "cell_type": "markdown",
   "metadata": {},
   "source": [
    "# Retail Analysis\n",
    "\n",
    "## Summary of the business\n",
    "\n",
    "HELOC\n",
    "\n",
    "The HELOC dataset from FICO. Each entry in the dataset is a line of credit, typically offered by a bank as a percentage of home equity (the difference between the current market value of a home and its purchase price). The customers in this dataset have requested a credit line in the range of $5,000 - $150,000. The fundamental task is to use the information about the applicant in their credit report to predict whether they will repay their HELOC account within 2 years."
   ]
  },
  {
   "cell_type": "code",
   "execution_count": 1,
   "metadata": {},
   "outputs": [],
   "source": [
    "import pandas as pd"
   ]
  },
  {
   "attachments": {},
   "cell_type": "markdown",
   "metadata": {},
   "source": [
    "# Data Exploration"
   ]
  },
  {
   "attachments": {},
   "cell_type": "markdown",
   "metadata": {},
   "source": [
    "There is only one csv file called: heloc.csv"
   ]
  },
  {
   "cell_type": "code",
   "execution_count": 2,
   "metadata": {},
   "outputs": [],
   "source": [
    "heloc_df = pd.read_csv('data/heloc.csv')"
   ]
  },
  {
   "cell_type": "code",
   "execution_count": 10,
   "metadata": {},
   "outputs": [
    {
     "name": "stdout",
     "output_type": "stream",
     "text": [
      "There are 24 columns: \n",
      "\n",
      "RiskPerformance  |  ExternalRiskEstimate  |  MSinceOldestTradeOpen  |  \n",
      "MSinceMostRecentTradeOpen  |  AverageMInFile  |  NumSatisfactoryTrades  |  \n",
      "NumTrades60Ever2DerogPubRec  |  NumTrades90Ever2DerogPubRec  |  PercentTradesNeverDelq  |  \n",
      "MSinceMostRecentDelq  |  MaxDelq2PublicRecLast12M  |  MaxDelqEver  |  \n",
      "NumTotalTrades  |  NumTradesOpeninLast12M  |  PercentInstallTrades  |  \n",
      "MSinceMostRecentInqexcl7days  |  NumInqLast6M  |  NumInqLast6Mexcl7days  |  \n",
      "NetFractionRevolvingBurden  |  NetFractionInstallBurden  |  NumRevolvingTradesWBalance  |  \n",
      "NumInstallTradesWBalance  |  NumBank2NatlTradesWHighUtilization  |  PercentTradesWBalance  |  "
     ]
    }
   ],
   "source": [
    "print(f'There are {len(heloc_df.columns)} columns: ')\n",
    "print()\n",
    "for idx, x in enumerate(heloc_df.columns):\n",
    "    if idx % 3 == 0 and idx != 0:\n",
    "        print()\n",
    "    print(x, end=\"  |  \")"
   ]
  },
  {
   "cell_type": "code",
   "execution_count": 12,
   "metadata": {},
   "outputs": [
    {
     "name": "stdout",
     "output_type": "stream",
     "text": [
      "<class 'pandas.core.frame.DataFrame'>\n",
      "RangeIndex: 10459 entries, 0 to 10458\n",
      "Data columns (total 24 columns):\n",
      " #   Column                              Non-Null Count  Dtype \n",
      "---  ------                              --------------  ----- \n",
      " 0   RiskPerformance                     10459 non-null  object\n",
      " 1   ExternalRiskEstimate                10459 non-null  int64 \n",
      " 2   MSinceOldestTradeOpen               10459 non-null  int64 \n",
      " 3   MSinceMostRecentTradeOpen           10459 non-null  int64 \n",
      " 4   AverageMInFile                      10459 non-null  int64 \n",
      " 5   NumSatisfactoryTrades               10459 non-null  int64 \n",
      " 6   NumTrades60Ever2DerogPubRec         10459 non-null  int64 \n",
      " 7   NumTrades90Ever2DerogPubRec         10459 non-null  int64 \n",
      " 8   PercentTradesNeverDelq              10459 non-null  int64 \n",
      " 9   MSinceMostRecentDelq                10459 non-null  int64 \n",
      " 10  MaxDelq2PublicRecLast12M            10459 non-null  int64 \n",
      " 11  MaxDelqEver                         10459 non-null  int64 \n",
      " 12  NumTotalTrades                      10459 non-null  int64 \n",
      " 13  NumTradesOpeninLast12M              10459 non-null  int64 \n",
      " 14  PercentInstallTrades                10459 non-null  int64 \n",
      " 15  MSinceMostRecentInqexcl7days        10459 non-null  int64 \n",
      " 16  NumInqLast6M                        10459 non-null  int64 \n",
      " 17  NumInqLast6Mexcl7days               10459 non-null  int64 \n",
      " 18  NetFractionRevolvingBurden          10459 non-null  int64 \n",
      " 19  NetFractionInstallBurden            10459 non-null  int64 \n",
      " 20  NumRevolvingTradesWBalance          10459 non-null  int64 \n",
      " 21  NumInstallTradesWBalance            10459 non-null  int64 \n",
      " 22  NumBank2NatlTradesWHighUtilization  10459 non-null  int64 \n",
      " 23  PercentTradesWBalance               10459 non-null  int64 \n",
      "dtypes: int64(23), object(1)\n",
      "memory usage: 1.9+ MB\n"
     ]
    }
   ],
   "source": [
    "heloc_df.info()"
   ]
  },
  {
   "cell_type": "code",
   "execution_count": null,
   "metadata": {},
   "outputs": [],
   "source": []
  }
 ],
 "metadata": {
  "kernelspec": {
   "display_name": ".venv",
   "language": "python",
   "name": "python3"
  },
  "language_info": {
   "codemirror_mode": {
    "name": "ipython",
    "version": 3
   },
   "file_extension": ".py",
   "mimetype": "text/x-python",
   "name": "python",
   "nbconvert_exporter": "python",
   "pygments_lexer": "ipython3",
   "version": "3.10.6"
  },
  "orig_nbformat": 4
 },
 "nbformat": 4,
 "nbformat_minor": 2
}
